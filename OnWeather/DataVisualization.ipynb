{
  "nbformat": 4,
  "nbformat_minor": 0,
  "metadata": {
    "colab": {
      "name": "Untitled16.ipynb",
      "provenance": [],
      "authorship_tag": "ABX9TyM/76yobWBAeOWCoyRQeYKX",
      "include_colab_link": true
    },
    "kernelspec": {
      "name": "python3",
      "display_name": "Python 3"
    }
  },
  "cells": [
    {
      "cell_type": "markdown",
      "metadata": {
        "id": "view-in-github",
        "colab_type": "text"
      },
      "source": [
        "<a href=\"https://colab.research.google.com/gist/Saicharan67/c2b84ef65a6328131df7cd98e601ff19/untitled16.ipynb\" target=\"_parent\"><img src=\"https://colab.research.google.com/assets/colab-badge.svg\" alt=\"Open In Colab\"/></a>"
      ]
    },
    {
      "cell_type": "code",
      "metadata": {
        "id": "qe0eA7nxp6Ym",
        "colab_type": "code",
        "colab": {}
      },
      "source": [
        "import matplotlib.pyplot as plt\n",
        "import pandas as pd"
      ],
      "execution_count": 1,
      "outputs": []
    },
    {
      "cell_type": "code",
      "metadata": {
        "id": "H4uF5r0aqiwt",
        "colab_type": "code",
        "colab": {}
      },
      "source": [
        "df=pd.read_csv(\"/content/city1.csv\")\n",
        "df1=pd.read_csv(\"/content/city2.csv\")"
      ],
      "execution_count": null,
      "outputs": []
    },
    {
      "cell_type": "markdown",
      "metadata": {
        "id": "Yc_35HqcqtVh",
        "colab_type": "text"
      },
      "source": [
        "Plotting the line chart of Date vs High Temperature\n",
        "\n"
      ]
    },
    {
      "cell_type": "code",
      "metadata": {
        "id": "jfUnpG_vqplp",
        "colab_type": "code",
        "colab": {}
      },
      "source": [
        "plt.plot(df['Date'],df['High_temp'])\n",
        "\n",
        "\n",
        "plt.title(\"Date vs High Temperature\",fontsize=20)\n",
        "plt.xlabel(\"Date\",fontsize=15)\n",
        "plt.ylabel(\"High Temp. in degree celcius\",fontsize=15)"
      ],
      "execution_count": null,
      "outputs": []
    },
    {
      "cell_type": "markdown",
      "metadata": {
        "id": "8pz_CURlq7Ri",
        "colab_type": "text"
      },
      "source": [
        "Plotting the line chart of Date vs Low Temperature"
      ]
    },
    {
      "cell_type": "code",
      "metadata": {
        "id": "vGNhfZGcq558",
        "colab_type": "code",
        "colab": {}
      },
      "source": [
        "plt.plot(df['Date'],df['Low_temp'])\n",
        "\n",
        "\n",
        "plt.title(\"Date vs Low Temperature\",fontsize=20)\n",
        "plt.xlabel(\"Date\",fontsize=15)\n",
        "plt.ylabel(\"Low Temp. in degree celcius\",fontsize=15)"
      ],
      "execution_count": null,
      "outputs": []
    },
    {
      "cell_type": "markdown",
      "metadata": {
        "id": "SJnLFkkarICB",
        "colab_type": "text"
      },
      "source": [
        "Plotting the line chart of Date vs Precipitation"
      ]
    },
    {
      "cell_type": "code",
      "metadata": {
        "id": "CbHlNhqyrF1d",
        "colab_type": "code",
        "colab": {}
      },
      "source": [
        "plt.plot(df['Date'],df['Precipitation'])\n",
        "\n",
        "\n",
        "plt.title(\"Date vs Precipitation\",fontsize=20)\n",
        "plt.xlabel(\"Date\",fontsize=15)\n",
        "plt.ylabel(\"Precipitation in mm\",fontsize=15)"
      ],
      "execution_count": null,
      "outputs": []
    },
    {
      "cell_type": "markdown",
      "metadata": {
        "id": "fVWaleXrrUGB",
        "colab_type": "text"
      },
      "source": [
        "Plotting the line chart of Date vs High Temperature & Date vs Low Temperature"
      ]
    },
    {
      "cell_type": "code",
      "metadata": {
        "id": "2txMqDj3rPn7",
        "colab_type": "code",
        "colab": {}
      },
      "source": [
        "plt.subplot(2,1,0)\n",
        "plt.plot(df['Date'],df['High_temp'])\n",
        "\n",
        "\n",
        "plt.title(\"Date vs High Temperature\",fontsize=20)\n",
        "plt.xlabel(\"Date\",fontsize=15)\n",
        "plt.ylabel(\"High Temp. in degree celcius\",fontsize=15)\n",
        "\n",
        "plt.show()\n",
        "\n",
        "\n",
        "\n",
        "plt.subplot(2,1,1)\n",
        "plt.plot(df['Date'],df['Low_temp'])\n",
        "\n",
        "\n",
        "plt.title(\"Date vs Low Temperature\",fontsize=20)\n",
        "plt.xlabel(\"Date\",fontsize=15)\n",
        "plt.ylabel(\"Low Temp. in degree celcius\",fontsize=15)\n",
        "\n",
        "plt.show()"
      ],
      "execution_count": null,
      "outputs": []
    },
    {
      "cell_type": "markdown",
      "metadata": {
        "id": "wpFxuGdGri5p",
        "colab_type": "text"
      },
      "source": [
        "Plotting the line chart of Date vs Precipitation for city1 & Date vs Precipitation city2"
      ]
    },
    {
      "cell_type": "code",
      "metadata": {
        "id": "sL9bdE7Wrt3a",
        "colab_type": "code",
        "colab": {}
      },
      "source": [
        "plt.plot(df['Date'],df['Precipitation'])\n",
        "\n",
        "\n",
        "plt.title(\"city1\",fontsize=20)\n",
        "plt.xlabel(\"Date\",fontsize=15)\n",
        "plt.ylabel(\"Precipitation\",fontsize=15)\n",
        "\n",
        "plt.show()\n",
        "\n",
        "\n",
        "\n",
        "plt.subplot(2,1,2)\n",
        "plt.plot(df1['Date'],df1['Precipitation'])\n",
        "\n",
        "\n",
        "plt.title(\"city2\",fontsize=20)\n",
        "plt.xlabel(\"Date\",fontsize=15)\n",
        "plt.ylabel(\"Precipitation\",fontsize=15)\n",
        "\n",
        "plt.show()"
      ],
      "execution_count": null,
      "outputs": []
    }
  ]
}